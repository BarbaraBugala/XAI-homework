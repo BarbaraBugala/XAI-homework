{
 "cells": [
  {
   "cell_type": "markdown",
   "id": "b5162fa4",
   "metadata": {},
   "source": [
    "# Task 3"
   ]
  },
  {
   "cell_type": "markdown",
   "id": "70eeeed8",
   "metadata": {},
   "source": [
    "Consider a following model: \n",
    "\n",
    "$ f(x_1, x_2) = (x_1 + x_2)^2 $\n",
    "\n",
    "Assume that $ x_1, x_2 \\sim U[-1,1] $ and $ x_1=x_2$ (full dependency)\n",
    "\n",
    "Calculate PD profile for variable $x_1$ in this model.\n",
    "\n",
    "Extra task if you do not fear conditional expected values: Calculate ME and ALE profiles for variable $x_1$ in this model."
   ]
  },
  {
   "cell_type": "markdown",
   "id": "9b9b6dde",
   "metadata": {},
   "source": [
    "$g^{PD}_j(z) = \\mathbb{E}_{X_{-j}}[f(X_{j|=z})] = \\mathbb{E}_{x_{2}}[(z + x_2)^2] = z^2 + 2z \\cdot \\mathbb{E}[x_2] + \\mathbb{E}[x_2^2] = z^2 + \\frac{1}{3}$"
   ]
  },
  {
   "cell_type": "markdown",
   "id": "9780b1fa",
   "metadata": {},
   "source": [
    "$g^{ME}_j(z) = \\mathbb{E}_{x_{-j} | x_j= z}[f(X_{j|=z})] = \\mathbb{E}_{x_{2} | x_1 = z}[(z + x_2)^2] = z^2 + 2z \\cdot \\mathbb{E}_{x_{2} | x_1 = z}[x_2] + \\mathbb{E}_{x_{2} | x_1 = z}[x_2^2] = z^2 + 2z^2 + z^2 = 4z^2$"
   ]
  },
  {
   "cell_type": "markdown",
   "id": "cffdafc7",
   "metadata": {},
   "source": [
    "$g^{AL}_j(z)= \\int ^z_{z_0}[E_{X_{−j|x_j=v}}\\frac{\\delta f(x)}{\\delta x_j}]dv = \\int ^z_{-1}[E_{X_{x_2|x_1=v}}\\frac{\\delta (x_1 + x_2)^2}{\\delta x_1}]dv = \\int ^z_{-1}[E_{X_{x_2|x_1=v}} 2x_1 + 2x_2]dv = \\int ^z_{-1} 4v dv = 2z^2 - 2$"
   ]
  },
  {
   "cell_type": "markdown",
   "id": "d84e7c29",
   "metadata": {},
   "source": []
  }
 ],
 "metadata": {
  "language_info": {
   "name": "python"
  }
 },
 "nbformat": 4,
 "nbformat_minor": 5
}
