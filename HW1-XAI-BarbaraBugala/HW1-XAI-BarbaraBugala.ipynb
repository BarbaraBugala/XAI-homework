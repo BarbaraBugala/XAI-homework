{
 "cells": [
  {
   "cell_type": "markdown",
   "id": "0aff4787",
   "metadata": {},
   "source": [
    "# XAI - Homework 1 - Barbara Bugała\n"
   ]
  },
  {
   "cell_type": "markdown",
   "id": "0d2775cf",
   "metadata": {},
   "source": [
    "## Task A"
   ]
  },
  {
   "cell_type": "markdown",
   "id": "2b73e260",
   "metadata": {},
   "source": [
    "Calculate Shapley values for player A given the following value function\n",
    "\n",
    "$v(\\emptyset) = 0 \\\\\n",
    "v(A) = 20 \\\\\n",
    "v(B) = 20 \\\\\n",
    "v(C) = 60 \\\\\n",
    "v(A,B) = 60 \\\\\n",
    "v(A,C) = 70 \\\\\n",
    "v(B,C) = 70 \\\\\n",
    "v(A,B,C) = 100 $\n",
    "\n",
    "contributions of player A:\n",
    "\n",
    "$v(A) - v(\\emptyset) = 20$ \\\n",
    "$v(A,B) - v(B) = 40$ \\\n",
    "$v(A,C) - v(C) = 10$ \\\n",
    "$v(A,B,C) - v(B,C) = 30$\n",
    "\n",
    "number of players $ \\rightarrow |P| = 3$\n",
    "\n",
    "shap values for player A:\n",
    "\n",
    "$\\phi_A = \\frac{2}{6} *20 + \\frac{1}{6}* 40 + \\frac{1}{6} *10 + \\frac{2}{6}* 30 = 25$"
   ]
  },
  {
   "cell_type": "markdown",
   "id": "e949b741",
   "metadata": {},
   "source": [
    "## Task B"
   ]
  },
  {
   "cell_type": "code",
   "execution_count": null,
   "id": "7d058794",
   "metadata": {
    "lines_to_next_cell": 2
   },
   "outputs": [],
   "source": [
    "# imports\n",
    "import xgboost as xgb\n",
    "import torch\n",
    "import torch.nn as nn\n",
    "from torch.utils.data import TensorDataset, DataLoader\n",
    "import pandas as pd\n",
    "from sklearn.model_selection import train_test_split\n",
    "import matplotlib.pyplot as plt\n",
    "import random\n",
    "import shap\n",
    "import itertools\n",
    "import numpy as np"
   ]
  },
  {
   "cell_type": "code",
   "execution_count": 4,
   "id": "1a5b8e88",
   "metadata": {},
   "outputs": [],
   "source": [
    "# read data\n",
    "data = pd.read_csv(\"phoneme.csv\")\n",
    "X = data.drop([\"Unnamed: 0\", \"TARGET\"], axis = 1).values\n",
    "y = data[\"TARGET\"].values\n",
    "\n",
    "# split into train/test\n",
    "X_train, X_test, y_train, y_test = train_test_split(X, y, test_size=0.2, random_state=42)\n",
    "\n",
    "# datasets and dataloaders\n",
    "train_dataset = TensorDataset(torch.tensor(X_train, dtype=torch.float32), torch.tensor(y_train,dtype=torch.float32))\n",
    "test_dataset = TensorDataset(torch.tensor(X_test, dtype=torch.float32), torch.tensor(y_test, dtype=torch.float32))\n",
    "training_data = DataLoader(train_dataset, batch_size= 64, shuffle=True)\n",
    "testing_data = DataLoader(test_dataset, batch_size=64, shuffle=True)"
   ]
  },
  {
   "cell_type": "markdown",
   "id": "b4521fb2",
   "metadata": {},
   "source": [
    "I’ll be using the Phoneme dataset, which has 5 numerical features and a binary target variable (1 or 2) representing two phoneme classes."
   ]
  },
  {
   "cell_type": "code",
   "execution_count": 9,
   "id": "0aae8aab",
   "metadata": {},
   "outputs": [
    {
     "data": {
      "text/html": [
       "<div>\n",
       "<style scoped>\n",
       "    .dataframe tbody tr th:only-of-type {\n",
       "        vertical-align: middle;\n",
       "    }\n",
       "\n",
       "    .dataframe tbody tr th {\n",
       "        vertical-align: top;\n",
       "    }\n",
       "\n",
       "    .dataframe thead th {\n",
       "        text-align: right;\n",
       "    }\n",
       "</style>\n",
       "<table border=\"1\" class=\"dataframe\">\n",
       "  <thead>\n",
       "    <tr style=\"text-align: right;\">\n",
       "      <th></th>\n",
       "      <th>V1</th>\n",
       "      <th>V2</th>\n",
       "      <th>V3</th>\n",
       "      <th>V4</th>\n",
       "      <th>V5</th>\n",
       "      <th>TARGET</th>\n",
       "    </tr>\n",
       "  </thead>\n",
       "  <tbody>\n",
       "    <tr>\n",
       "      <th>0</th>\n",
       "      <td>0.489927</td>\n",
       "      <td>-0.451528</td>\n",
       "      <td>-1.047990</td>\n",
       "      <td>-0.598693</td>\n",
       "      <td>-0.020418</td>\n",
       "      <td>1</td>\n",
       "    </tr>\n",
       "    <tr>\n",
       "      <th>1</th>\n",
       "      <td>-0.641265</td>\n",
       "      <td>0.109245</td>\n",
       "      <td>0.292130</td>\n",
       "      <td>-0.916804</td>\n",
       "      <td>0.240223</td>\n",
       "      <td>1</td>\n",
       "    </tr>\n",
       "    <tr>\n",
       "      <th>2</th>\n",
       "      <td>0.870593</td>\n",
       "      <td>-0.459862</td>\n",
       "      <td>0.578159</td>\n",
       "      <td>0.806634</td>\n",
       "      <td>0.835248</td>\n",
       "      <td>1</td>\n",
       "    </tr>\n",
       "    <tr>\n",
       "      <th>3</th>\n",
       "      <td>-0.628439</td>\n",
       "      <td>-0.316284</td>\n",
       "      <td>1.934295</td>\n",
       "      <td>-1.427099</td>\n",
       "      <td>-0.136583</td>\n",
       "      <td>1</td>\n",
       "    </tr>\n",
       "    <tr>\n",
       "      <th>4</th>\n",
       "      <td>-0.596399</td>\n",
       "      <td>0.015938</td>\n",
       "      <td>2.043206</td>\n",
       "      <td>-1.688448</td>\n",
       "      <td>-0.948127</td>\n",
       "      <td>1</td>\n",
       "    </tr>\n",
       "  </tbody>\n",
       "</table>\n",
       "</div>"
      ],
      "text/plain": [
       "         V1        V2        V3        V4        V5  TARGET\n",
       "0  0.489927 -0.451528 -1.047990 -0.598693 -0.020418       1\n",
       "1 -0.641265  0.109245  0.292130 -0.916804  0.240223       1\n",
       "2  0.870593 -0.459862  0.578159  0.806634  0.835248       1\n",
       "3 -0.628439 -0.316284  1.934295 -1.427099 -0.136583       1\n",
       "4 -0.596399  0.015938  2.043206 -1.688448 -0.948127       1"
      ]
     },
     "metadata": {},
     "output_type": "display_data"
    }
   ],
   "source": [
    "display(data.drop([\"Unnamed: 0\"], axis = 1).head())"
   ]
  },
  {
   "cell_type": "markdown",
   "id": "864d0145",
   "metadata": {},
   "source": [
    "### Model Training (XGBoost)\n",
    "\n",
    "We train an **XGBoost** model to classify the two phoneme classes.  "
   ]
  },
  {
   "cell_type": "code",
   "execution_count": 10,
   "id": "a9b4497d",
   "metadata": {
    "lines_to_next_cell": 2
   },
   "outputs": [],
   "source": [
    "model_xgb = xgb.XGBRegressor(objective = \"reg:squarederror\")\n",
    "model_xgb.fit(X_train, y_train)\n",
    "\n",
    "y_pred = model_xgb.predict(X_test)"
   ]
  },
  {
   "cell_type": "code",
   "execution_count": 11,
   "id": "b744bfa0",
   "metadata": {
    "lines_to_next_cell": 2
   },
   "outputs": [],
   "source": [
    "# generate random numbers that will be used for shap analysis\n",
    "random1 = random.randint(0, len(test_dataset) - 1)\n",
    "random2 = random.randint(0, len(test_dataset) - 1)"
   ]
  },
  {
   "cell_type": "code",
   "execution_count": 14,
   "id": "cb1c1759",
   "metadata": {},
   "outputs": [
    {
     "name": "stdout",
     "output_type": "stream",
     "text": [
      "The value of f(empty) is:  1.1356814\n"
     ]
    }
   ],
   "source": [
    "# calculation of f(\\empty), taking a mean of all data samples\n",
    "baseline = X_test.mean(axis = 0).reshape(1, 5)\n",
    "f_baseline = model_xgb.predict(baseline)[0]\n",
    "print(\"The value of f(empty) is: \", f_baseline)"
   ]
  },
  {
   "cell_type": "markdown",
   "id": "59719f90",
   "metadata": {},
   "source": [
    "We approximate SHAP values using Monte Carlo sampling:\n",
    "\n",
    "1. Start from a **baseline input**.\n",
    "2. Randomly permute the feature order.\n",
    "3. For each permutation:\n",
    "   - Add features one by one.\n",
    "   - Record how much the model output changes.\n",
    "4. Average these changes across all permutations."
   ]
  },
  {
   "cell_type": "code",
   "execution_count": 7,
   "id": "815bce06",
   "metadata": {},
   "outputs": [
    {
     "name": "stdout",
     "output_type": "stream",
     "text": [
      "Shap for attibutions:  [-0.46673081 -0.01072917  0.26250805  0.05356276 -0.03820485]\n",
      "predicted models output:  0.9360873699188232\n",
      "actual model output:  0.93608737\n"
     ]
    }
   ],
   "source": [
    "psi = np.zeros(5)\n",
    "\n",
    "for perm in itertools.permutations([0, 1, 2, 3, 4]):\n",
    "    x = baseline.copy()\n",
    "    prev_pred = model_xgb.predict(x)[0]\n",
    "    for i in perm:\n",
    "        x[0][i] = X_test[random1][i]\n",
    "        pred = model_xgb.predict(x)[0]\n",
    "        psi[i] += pred - prev_pred\n",
    "        prev_pred = pred\n",
    "\n",
    "\n",
    "psi /= 120\n",
    "print(\"Shap for attibutions: \", psi)\n",
    "print(\"predicted models output: \", psi.sum() + f_baseline)\n",
    "print(\"actual model output: \", model_xgb.predict(X_test[random1].reshape(1, -1))[0])"
   ]
  },
  {
   "cell_type": "markdown",
   "id": "6fc5a27b",
   "metadata": {},
   "source": [
    "Shap values from shap library"
   ]
  },
  {
   "cell_type": "code",
   "execution_count": 8,
   "id": "821ca8ae",
   "metadata": {
    "lines_to_next_cell": 2
   },
   "outputs": [],
   "source": [
    "explainer = shap.Explainer(model_xgb, baseline)\n",
    "shap_values = explainer(X_test)"
   ]
  },
  {
   "cell_type": "code",
   "execution_count": 9,
   "id": "f4f7e57c",
   "metadata": {},
   "outputs": [
    {
     "data": {
      "image/png": "[encoded data removed]",
      "text/plain": [
       "<Figure size 800x400 with 3 Axes>"
      ]
     },
     "metadata": {},
     "output_type": "display_data"
    }
   ],
   "source": [
    "shap.plots.waterfall(shap_values[random1])"
   ]
  },
  {
   "cell_type": "markdown",
   "id": "ebdfbc25",
   "metadata": {},
   "source": [
    "*The results are not identical, but they are quite similar. The overall impact on the final prediction of each feature seems to be preserved.*\n"
   ]
  },
  {
   "cell_type": "markdown",
   "id": "177e7218",
   "metadata": {},
   "source": [
    "Second example, calculation from self-made shap "
   ]
  },
  {
   "cell_type": "code",
   "execution_count": 10,
   "id": "b9720965",
   "metadata": {
    "lines_to_next_cell": 2
   },
   "outputs": [
    {
     "name": "stdout",
     "output_type": "stream",
     "text": [
      "Shap for attibutions:  [0.30533292 0.24454349 0.03187849 0.0176059  0.02070512]\n",
      "predicted models output:  1.7557473182678223\n",
      "actual model output:  1.7557473\n"
     ]
    }
   ],
   "source": [
    "psi = np.zeros(5)\n",
    "\n",
    "for perm in itertools.permutations([0, 1, 2, 3, 4]):\n",
    "    x = baseline.copy()\n",
    "    prev_pred = model_xgb.predict(x)[0]\n",
    "    for i in perm:\n",
    "        x[0][i] = X_test[random2][i]\n",
    "        pred = model_xgb.predict(x)[0]\n",
    "        psi[i] += pred - prev_pred\n",
    "        prev_pred = pred\n",
    "\n",
    "\n",
    "psi /= 120\n",
    "print(\"Shap for attibutions: \", psi)\n",
    "print(\"predicted models output: \", psi.sum() + f_baseline)\n",
    "print(\"actual model output: \", model_xgb.predict(X_test[random2].reshape(1, -1))[0])"
   ]
  },
  {
   "cell_type": "code",
   "execution_count": 11,
   "id": "854c6ea3",
   "metadata": {},
   "outputs": [
    {
     "data": {
      "image/png": "[encoded data removed]",
      "text/plain": [
       "<Figure size 800x400 with 3 Axes>"
      ]
     },
     "metadata": {},
     "output_type": "display_data"
    }
   ],
   "source": [
    "shap.plots.waterfall(shap_values[random2])"
   ]
  },
  {
   "cell_type": "markdown",
   "id": "3f1d280d",
   "metadata": {},
   "source": [
    "*In this example results also look very similar to the ones in the self-made shap calculation. There are small differences but it looks very good.*"
   ]
  },
  {
   "cell_type": "markdown",
   "id": "6397503b",
   "metadata": {},
   "source": [
    "### Neural net"
   ]
  },
  {
   "cell_type": "code",
   "execution_count": null,
   "id": "74344614",
   "metadata": {
    "lines_to_next_cell": 2
   },
   "outputs": [],
   "source": [
    "class Net(nn.Module):\n",
    "    def __init__(self, in_params, out_params, hidden):\n",
    "        super().__init__()\n",
    "        self.fc1 = nn.Linear(in_params, hidden)\n",
    "        self.fc2 = nn.Linear(hidden, out_params)\n",
    "        self.tanh = nn.Tanh()\n",
    "        self.bn1 = nn.BatchNorm1d(hidden)\n",
    "\n",
    "    def forward(self, x):\n",
    "        x = self.fc1(x)\n",
    "        x = self.tanh(x)\n",
    "        x = self.bn1(x)\n",
    "        x = self.fc2(x)\n",
    "        x = self.tanh(x)\n",
    "\n",
    "        return x"
   ]
  },
  {
   "cell_type": "code",
   "execution_count": null,
   "id": "bbc40a92",
   "metadata": {
    "lines_to_next_cell": 2
   },
   "outputs": [],
   "source": [
    "model = Net(6, 1, 10)"
   ]
  },
  {
   "cell_type": "code",
   "execution_count": null,
   "id": "8f4edb8b",
   "metadata": {
    "lines_to_next_cell": 2
   },
   "outputs": [],
   "source": [
    "optimizer = torch.optim.Adam(model.parameters(), lr = 0.01)\n",
    "criterion = torch.nn.MSELoss()\n",
    "\n",
    "epochs = 5\n",
    "losses = []"
   ]
  },
  {
   "cell_type": "code",
   "execution_count": null,
   "id": "995b0074",
   "metadata": {
    "lines_to_next_cell": 2
   },
   "outputs": [],
   "source": [
    "model.train()\n",
    "for epoch in range(epochs):\n",
    "    for x, y in training_data:\n",
    "        optimizer.zero_grad()\n",
    "        output = model(x)\n",
    "        loss = criterion(y, output.squeeze(-1))\n",
    "        loss.backward()\n",
    "        optimizer.step()\n",
    "        losses.append(loss.detach().cpu().item())"
   ]
  },
  {
   "cell_type": "code",
   "execution_count": null,
   "id": "7b4ac83d",
   "metadata": {
    "lines_to_next_cell": 2
   },
   "outputs": [],
   "source": [
    "plt.plot(losses)\n",
    "plt.show()"
   ]
  },
  {
   "cell_type": "code",
   "execution_count": null,
   "id": "f8ce081d",
   "metadata": {},
   "outputs": [],
   "source": [
    "model.eval()\n",
    "correct = 0\n",
    "all = 0\n",
    "with torch.no_grad():\n",
    "    for x, y in testing_data:\n",
    "        optimizer.zero_grad()\n",
    "        output = torch.sign(model(x)).view(-1)\n",
    "        correct += (output == y).sum().item()\n",
    "        all += y.size(0)\n",
    "\n",
    "    print(correct / all  * 100)\n"
   ]
  },
  {
   "cell_type": "markdown",
   "id": "00754801",
   "metadata": {},
   "source": [
    "The accuraccy looks very good, but mostly because the dataset is very imbalanced with imbalance ratio over 40."
   ]
  },
  {
   "cell_type": "code",
   "execution_count": null,
   "id": "d7205969",
   "metadata": {
    "lines_to_next_cell": 2
   },
   "outputs": [],
   "source": [
    "random1 = random.randint(0, len(test_dataset) - 1)\n",
    "random2 = random.randint(0, len(test_dataset) - 1)\n",
    "\n",
    "random_sample1_torch = test_dataset[random1][0]\n",
    "random_sample2_torch = test_dataset[random2][0]\n",
    "\n",
    "random_sample1_numpy = X_test[random1]\n",
    "random_sample2_numpy = X_test[random2]"
   ]
  },
  {
   "cell_type": "code",
   "execution_count": null,
   "id": "deef9246",
   "metadata": {
    "lines_to_next_cell": 2
   },
   "outputs": [],
   "source": [
    "output_sample1 = model(random_sample1_torch.unsqueeze(0))\n",
    "output_sample2 = model(random_sample2_torch.unsqueeze(0))"
   ]
  },
  {
   "cell_type": "code",
   "execution_count": null,
   "id": "eaafb0d5",
   "metadata": {
    "lines_to_next_cell": 2
   },
   "outputs": [],
   "source": [
    "print(random_sample1_torch)"
   ]
  },
  {
   "cell_type": "code",
   "execution_count": null,
   "id": "b23a48eb",
   "metadata": {},
   "outputs": [],
   "source": [
    "# model.eval()\n",
    "\n",
    "# explainer = shap.GradientExplainer(model, test_dataset[:100][0])\n",
    "# shap_values = explainer(test_dataset[:100][0])\n",
    "# shap.plots.waterfall(shap_values[0])"
   ]
  },
  {
   "cell_type": "markdown",
   "id": "89e1fb1e",
   "metadata": {},
   "source": [
    "## Task C"
   ]
  },
  {
   "cell_type": "markdown",
   "id": "695d6dd9",
   "metadata": {},
   "source": [
    "In this task, I will perform an analysis on the more imbalanced Mammography dataset. The target variable takes values in {-1, 1}, and the class imbalance is considerably higher compared to Task B."
   ]
  },
  {
   "cell_type": "code",
   "execution_count": 12,
   "id": "0a9722c0",
   "metadata": {
    "lines_to_next_cell": 2
   },
   "outputs": [],
   "source": [
    "# read data\n",
    "data_more_imbalanced = pd.read_csv(\"mammography.csv\")\n",
    "X_mI = data_more_imbalanced.drop([\"Unnamed: 0\", \"TARGET\"], axis = 1).values\n",
    "y_mI = data_more_imbalanced[\"TARGET\"].values"
   ]
  },
  {
   "cell_type": "code",
   "execution_count": 13,
   "id": "624feee2",
   "metadata": {},
   "outputs": [
    {
     "data": {
      "image/png": "[encoded data removed]",
      "text/plain": [
       "<Figure size 800x450 with 3 Axes>"
      ]
     },
     "metadata": {},
     "output_type": "display_data"
    }
   ],
   "source": [
    "model_xgb = xgb.XGBRegressor(objective = \"reg:squarederror\")\n",
    "model_xgb.fit(X_mI, y_mI)\n",
    "\n",
    "explainer = shap.Explainer(model_xgb)\n",
    "shap_values = explainer(X_mI)\n",
    "shap.plots.waterfall(shap_values[0])"
   ]
  },
  {
   "cell_type": "markdown",
   "id": "06be6a0b",
   "metadata": {},
   "source": [
    "*The difference is evident: the SHAP values are substantially smaller, with the maximum absolute value usually below 0.03, whereas in the previous analysis they reached values as high as 0.5.*"
   ]
  },
  {
   "cell_type": "markdown",
   "id": "4d0ed40d",
   "metadata": {},
   "source": []
  }
 ],
 "metadata": {
  "jupytext": {
   "cell_metadata_filter": "-all",
   "encoding": "# coding: utf-8",
   "executable": "/usr/bin/env python",
   "main_language": "python",
   "notebook_metadata_filter": "-all"
  },
  "kernelspec": {
   "display_name": "venv (3.12.10)",
   "language": "python",
   "name": "python3"
  },
  "language_info": {
   "codemirror_mode": {
    "name": "ipython",
    "version": 3
   },
   "file_extension": ".py",
   "mimetype": "text/x-python",
   "name": "python",
   "nbconvert_exporter": "python",
   "pygments_lexer": "ipython3",
   "version": "3.12.10"
  }
 },
 "nbformat": 4,
 "nbformat_minor": 5
}
